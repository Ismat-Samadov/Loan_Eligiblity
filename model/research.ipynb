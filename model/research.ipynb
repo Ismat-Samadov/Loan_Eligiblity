{
 "cells": [
  {
   "cell_type": "code",
   "execution_count": null,
   "metadata": {},
   "outputs": [],
   "source": []
  },
  {
   "cell_type": "code",
   "execution_count": 4,
   "metadata": {},
   "outputs": [
    {
     "ename": "TypeError",
     "evalue": "OneHotEncoder.__init__() got an unexpected keyword argument 'sparse'",
     "output_type": "error",
     "traceback": [
      "\u001b[0;31m---------------------------------------------------------------------------\u001b[0m",
      "\u001b[0;31mTypeError\u001b[0m                                 Traceback (most recent call last)",
      "Cell \u001b[0;32mIn[4], line 4\u001b[0m\n\u001b[1;32m      2\u001b[0m \u001b[38;5;28;01mfrom\u001b[39;00m \u001b[38;5;21;01msklearn\u001b[39;00m\u001b[38;5;21;01m.\u001b[39;00m\u001b[38;5;21;01mmodel_selection\u001b[39;00m \u001b[38;5;28;01mimport\u001b[39;00m train_test_split\n\u001b[1;32m      3\u001b[0m \u001b[38;5;28;01mfrom\u001b[39;00m \u001b[38;5;21;01msklearn\u001b[39;00m\u001b[38;5;21;01m.\u001b[39;00m\u001b[38;5;21;01mpreprocessing\u001b[39;00m \u001b[38;5;28;01mimport\u001b[39;00m LabelEncoder, OneHotEncoder\n\u001b[0;32m----> 4\u001b[0m \u001b[38;5;28;01mfrom\u001b[39;00m \u001b[38;5;21;01mlazypredict\u001b[39;00m\u001b[38;5;21;01m.\u001b[39;00m\u001b[38;5;21;01mSupervised\u001b[39;00m \u001b[38;5;28;01mimport\u001b[39;00m LazyClassifier\n\u001b[1;32m      5\u001b[0m \u001b[38;5;28;01mimport\u001b[39;00m \u001b[38;5;21;01mmatplotlib\u001b[39;00m\u001b[38;5;21;01m.\u001b[39;00m\u001b[38;5;21;01mpyplot\u001b[39;00m \u001b[38;5;28;01mas\u001b[39;00m \u001b[38;5;21;01mplt\u001b[39;00m\n\u001b[1;32m      6\u001b[0m \u001b[38;5;28;01mimport\u001b[39;00m \u001b[38;5;21;01mseaborn\u001b[39;00m \u001b[38;5;28;01mas\u001b[39;00m \u001b[38;5;21;01msns\u001b[39;00m\n",
      "File \u001b[0;32m~/Loan_Eligiblity/.venv/lib/python3.12/site-packages/lazypredict/Supervised.py:98\u001b[0m\n\u001b[1;32m     89\u001b[0m \u001b[38;5;66;03m# CLASSIFIERS.append(('CatBoostClassifier',catboost.CatBoostClassifier))\u001b[39;00m\n\u001b[1;32m     91\u001b[0m numeric_transformer \u001b[38;5;241m=\u001b[39m Pipeline(\n\u001b[1;32m     92\u001b[0m     steps\u001b[38;5;241m=\u001b[39m[(\u001b[38;5;124m\"\u001b[39m\u001b[38;5;124mimputer\u001b[39m\u001b[38;5;124m\"\u001b[39m, SimpleImputer(strategy\u001b[38;5;241m=\u001b[39m\u001b[38;5;124m\"\u001b[39m\u001b[38;5;124mmean\u001b[39m\u001b[38;5;124m\"\u001b[39m)), (\u001b[38;5;124m\"\u001b[39m\u001b[38;5;124mscaler\u001b[39m\u001b[38;5;124m\"\u001b[39m, StandardScaler())]\n\u001b[1;32m     93\u001b[0m )\n\u001b[1;32m     95\u001b[0m categorical_transformer_low \u001b[38;5;241m=\u001b[39m Pipeline(\n\u001b[1;32m     96\u001b[0m     steps\u001b[38;5;241m=\u001b[39m[\n\u001b[1;32m     97\u001b[0m         (\u001b[38;5;124m\"\u001b[39m\u001b[38;5;124mimputer\u001b[39m\u001b[38;5;124m\"\u001b[39m, SimpleImputer(strategy\u001b[38;5;241m=\u001b[39m\u001b[38;5;124m\"\u001b[39m\u001b[38;5;124mconstant\u001b[39m\u001b[38;5;124m\"\u001b[39m, fill_value\u001b[38;5;241m=\u001b[39m\u001b[38;5;124m\"\u001b[39m\u001b[38;5;124mmissing\u001b[39m\u001b[38;5;124m\"\u001b[39m)),\n\u001b[0;32m---> 98\u001b[0m         (\u001b[38;5;124m\"\u001b[39m\u001b[38;5;124mencoding\u001b[39m\u001b[38;5;124m\"\u001b[39m, \u001b[43mOneHotEncoder\u001b[49m\u001b[43m(\u001b[49m\u001b[43mhandle_unknown\u001b[49m\u001b[38;5;241;43m=\u001b[39;49m\u001b[38;5;124;43m\"\u001b[39;49m\u001b[38;5;124;43mignore\u001b[39;49m\u001b[38;5;124;43m\"\u001b[39;49m\u001b[43m,\u001b[49m\u001b[43m \u001b[49m\u001b[43msparse\u001b[49m\u001b[38;5;241;43m=\u001b[39;49m\u001b[38;5;28;43;01mFalse\u001b[39;49;00m\u001b[43m)\u001b[49m),\n\u001b[1;32m     99\u001b[0m     ]\n\u001b[1;32m    100\u001b[0m )\n\u001b[1;32m    102\u001b[0m categorical_transformer_high \u001b[38;5;241m=\u001b[39m Pipeline(\n\u001b[1;32m    103\u001b[0m     steps\u001b[38;5;241m=\u001b[39m[\n\u001b[1;32m    104\u001b[0m         (\u001b[38;5;124m\"\u001b[39m\u001b[38;5;124mimputer\u001b[39m\u001b[38;5;124m\"\u001b[39m, SimpleImputer(strategy\u001b[38;5;241m=\u001b[39m\u001b[38;5;124m\"\u001b[39m\u001b[38;5;124mconstant\u001b[39m\u001b[38;5;124m\"\u001b[39m, fill_value\u001b[38;5;241m=\u001b[39m\u001b[38;5;124m\"\u001b[39m\u001b[38;5;124mmissing\u001b[39m\u001b[38;5;124m\"\u001b[39m)),\n\u001b[0;32m   (...)\u001b[0m\n\u001b[1;32m    107\u001b[0m     ]\n\u001b[1;32m    108\u001b[0m )\n\u001b[1;32m    111\u001b[0m \u001b[38;5;66;03m# Helper function\u001b[39;00m\n",
      "\u001b[0;31mTypeError\u001b[0m: OneHotEncoder.__init__() got an unexpected keyword argument 'sparse'"
     ]
    }
   ],
   "source": [
    "import pandas as pd\n",
    "from sklearn.model_selection import train_test_split\n",
    "from sklearn.preprocessing import LabelEncoder, OneHotEncoder\n",
    "from lazypredict.Supervised import LazyClassifier\n",
    "import matplotlib.pyplot as plt\n",
    "import seaborn as sns\n",
    "\n",
    "# Load the dataset\n",
    "loan_train = pd.read_csv('data/loan-train.csv')\n",
    "\n",
    "# Step 1: Clean the data\n",
    "# Handling missing values: Fill missing LoanAmount with median, Loan_Amount_Term with mode, and Credit_History with mode\n",
    "loan_train['LoanAmount'].fillna(loan_train['LoanAmount'].median(), inplace=True)\n",
    "loan_train['Loan_Amount_Term'].fillna(loan_train['Loan_Amount_Term'].mode()[0], inplace=True)\n",
    "loan_train['Credit_History'].fillna(loan_train['Credit_History'].mode()[0], inplace=True)\n",
    "\n",
    "# Encoding categorical variables manually using OneHotEncoder\n",
    "loan_train['Gender'] = loan_train['Gender'].fillna('Unknown')\n",
    "loan_train['Married'] = loan_train['Married'].fillna('Unknown')\n",
    "loan_train['Dependents'] = loan_train['Dependents'].replace('3+', '3')\n",
    "loan_train['Dependents'] = loan_train['Dependents'].fillna('0')\n",
    "loan_train['Self_Employed'] = loan_train['Self_Employed'].fillna('No')\n",
    "\n",
    "# Use OneHotEncoder to handle categorical columns like Gender, Married, Dependents, Education, Self_Employed, Property_Area\n",
    "onehot_encoder = OneHotEncoder(sparse_output=False)  # Fix: use sparse_output\n",
    "\n",
    "categorical_columns = ['Gender', 'Married', 'Dependents', 'Education', 'Self_Employed', 'Property_Area']\n",
    "encoded_cols = onehot_encoder.fit_transform(loan_train[categorical_columns])\n",
    "\n",
    "# Convert encoded columns to a DataFrame and concatenate to the original dataframe\n",
    "encoded_df = pd.DataFrame(encoded_cols, columns=onehot_encoder.get_feature_names_out(categorical_columns))\n",
    "loan_train = pd.concat([loan_train, encoded_df], axis=1)\n",
    "\n",
    "# Drop the original categorical columns\n",
    "loan_train.drop(columns=categorical_columns, inplace=True)\n",
    "\n",
    "# Encoding Loan_Status as it is the target variable\n",
    "label_encoder = LabelEncoder()\n",
    "loan_train['Loan_Status'] = label_encoder.fit_transform(loan_train['Loan_Status'])\n",
    "\n",
    "# Step 2: Prepare the data\n",
    "X = loan_train.drop(columns=['Loan_ID', 'Loan_Status'])\n",
    "y = loan_train['Loan_Status']\n",
    "\n",
    "# Train-test split\n",
    "X_train, X_test, y_train, y_test = train_test_split(X, y, test_size=0.2, random_state=42)\n",
    "\n",
    "# Step 3: Apply LazyPredict\n",
    "clf = LazyClassifier()\n",
    "models, predictions = clf.fit(X_train, X_test, y_train, y_test)\n",
    "\n",
    "# Display models sorted by accuracy\n",
    "models_sorted = models.sort_values(by=\"Accuracy\", ascending=False)\n",
    "\n",
    "# Step 4: Visualize the results\n",
    "plt.figure(figsize=(10, 6))\n",
    "sns.barplot(x=models_sorted.index, y=models_sorted['Accuracy'])\n",
    "plt.xticks(rotation=90)\n",
    "plt.title('Model Accuracy Comparison')\n",
    "plt.xlabel('Model')\n",
    "plt.ylabel('Accuracy Score')\n",
    "plt.tight_layout()\n",
    "plt.show()\n",
    "\n",
    "# Print out the sorted model results\n",
    "print(models_sorted)\n"
   ]
  }
 ],
 "metadata": {
  "kernelspec": {
   "display_name": ".venv",
   "language": "python",
   "name": "python3"
  },
  "language_info": {
   "codemirror_mode": {
    "name": "ipython",
    "version": 3
   },
   "file_extension": ".py",
   "mimetype": "text/x-python",
   "name": "python",
   "nbconvert_exporter": "python",
   "pygments_lexer": "ipython3",
   "version": "3.12.6"
  }
 },
 "nbformat": 4,
 "nbformat_minor": 2
}
